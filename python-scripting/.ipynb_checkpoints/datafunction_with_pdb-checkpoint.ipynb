{
 "cells": [
  {
   "cell_type": "code",
   "execution_count": 205,
   "metadata": {},
   "outputs": [],
   "source": [
    "#Import necessary modules\n",
    "import pandas as pd\n",
    "import matplotlib.pyplot as plt\n",
    "\n",
    "\n",
    "#Create a function datafunc() to analyze my data \n",
    "def datafunc(filename):\n",
    "#Asks what csv file you would like to analyze and takes the csv file and reads it, and asks the user for inputs for what they want to find and for what category.\n",
    "    data = pd.read_csv(filename) \n",
    "    stat = input('What statistic do you want to find from the data? (i.e. Max, Min, Avg, Std) ')\n",
    "    assert stat.upper() == 'MAX' or stat.upper() == 'MIN' or stat.upper() == 'AVG' or stat.upper() == 'STD', 'Please choose one of the example statistical analysis'\n",
    "    key = str(input('What do you want to find the {} of? (i.e Slow approach, Vigilance, Foraging)'.format(stat)))\n",
    "    assert key == 'Foraging' or key == 'Vigilance' or key == 'Slow approach', \"Please choose from one of the catagories shown above\"\n",
    "#Seperates the data based on treatment type\n",
    "    catdata = data.loc[data['TREATMENT'] == 'Cat']\n",
    "    controldata = data.loc[data['TREATMENT'] == 'Control']\n",
    "#If statements to check what statistic the user wants to find out\n",
    "#Prints out the the behavior score depending on the statistics and rounds it to 3 sigfig\n",
    "#Plots behavior score for each subject based on their treatment type\n",
    "    if stat.upper() == 'MAX': #Max function\n",
    "        print('This is the maximum behavior score for bettongs exposed to cats:',round(catdata[key].max(), 3)) \n",
    "        print('This is the maximum behavior score for bettongs not exposed to cats:',round(controldata[key].max(), 3))\n",
    "        plt.scatter(range(len(catdata)),catdata[key], label='Cat Exposed')\n",
    "        plt.scatter(range(len(controldata)),controldata[key], label='Control')\n",
    "        plt.legend(loc='upper right') #Creates a legend with labels for the two types of trial, cat exposed and control\n",
    "        plt.ylabel('Behavior Score') #Labels for the axis, y is behavior score and x is subject #\n",
    "        plt.xlabel('Subject #')\n",
    "    elif stat.upper() == 'MIN': #Min function\n",
    "        print('This is the minimum behavior score for bettongs exposed to cats:',round(catdata[key].min(), 3))\n",
    "        print('This is the minimum behavior score for bettongs not exposed to cats:',round(controldata[key].min(), 3))\n",
    "        plt.scatter(range(len(catdata)),catdata[key], label='Cat Exposed')\n",
    "        plt.scatter(range(len(controldata)),controldata[key], label='Control')\n",
    "        plt.legend(loc='upper right')\n",
    "        plt.ylabel('Behavior Score')\n",
    "        plt.xlabel('Subject #')\n",
    "    elif stat.upper() == 'AVG': #Average function\n",
    "        print('This is the average behavior score for bettongs exposed to cats:',round(catdata[key].mean(), 3))\n",
    "        print('This is the average behavior score for bettongs not exposed to cats:',round(controldata[key].mean(), 3))\n",
    "        plt.scatter(range(len(catdata)),catdata[key], label='Cat Exposed')\n",
    "        plt.scatter(range(len(controldata)),controldata[key], label='Control')\n",
    "        plt.legend(loc='upper right')\n",
    "        plt.ylabel('Behavior Score')\n",
    "        plt.xlabel('Subject #')\n",
    "    elif stat.upper() == 'STD': #Standard deviation function\n",
    "        print('This is the standard deviation for behavior score for bettongs exposed to cats:', round(catdata[key].std(), 3))\n",
    "        print('This is the standard deviation for behavior scores for bettongs not exposed to cats:',round(controldata[key].std(), 3))\n",
    "        plt.scatter(range(len(catdata)),catdata[key], label='Cat Exposed')\n",
    "        plt.scatter(range(len(controldata)),controldata[key], label='Control')\n",
    "        plt.legend(loc='upper right')\n",
    "        plt.ylabel('Behavior Score')\n",
    "        plt.xlabel('Subject #')"
   ]
  }
 ],
 "metadata": {
  "kernelspec": {
   "display_name": "Python 3",
   "language": "python",
   "name": "python3"
  },
  "language_info": {
   "codemirror_mode": {
    "name": "ipython",
    "version": 3
   },
   "file_extension": ".py",
   "mimetype": "text/x-python",
   "name": "python",
   "nbconvert_exporter": "python",
   "pygments_lexer": "ipython3",
   "version": "3.6.9"
  }
 },
 "nbformat": 4,
 "nbformat_minor": 2
}
