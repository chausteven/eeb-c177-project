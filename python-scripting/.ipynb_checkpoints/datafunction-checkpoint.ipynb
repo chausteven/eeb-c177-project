{
 "cells": [
  {
   "cell_type": "code",
   "execution_count": 20,
   "metadata": {},
   "outputs": [
    {
     "name": "stdout",
     "output_type": "stream",
     "text": [
      "What .csv file would you like to analyze?random.txt\n"
     ]
    },
    {
     "ename": "AssertionError",
     "evalue": "This file type cannot be used, please use a .csv file type",
     "output_type": "error",
     "traceback": [
      "\u001b[0;31m---------------------------------------------------------------------------\u001b[0m",
      "\u001b[0;31mAssertionError\u001b[0m                            Traceback (most recent call last)",
      "\u001b[0;32m<ipython-input-20-a15ba5f6aa93>\u001b[0m in \u001b[0;36m<module>\u001b[0;34m()\u001b[0m\n\u001b[1;32m     11\u001b[0m \u001b[0mfilename\u001b[0m \u001b[0;34m=\u001b[0m \u001b[0mstr\u001b[0m\u001b[0;34m(\u001b[0m\u001b[0minput\u001b[0m\u001b[0;34m(\u001b[0m\u001b[0;34m'What .csv file would you like to analyze?'\u001b[0m\u001b[0;34m)\u001b[0m\u001b[0;34m)\u001b[0m\u001b[0;34m\u001b[0m\u001b[0;34m\u001b[0m\u001b[0m\n\u001b[1;32m     12\u001b[0m \u001b[0;31m#Asks what csv file you would like to analyze and takes the csv file and reads it, and asks the user for inputs for what they want to find and for what category.\u001b[0m\u001b[0;34m\u001b[0m\u001b[0;34m\u001b[0m\u001b[0;34m\u001b[0m\u001b[0m\n\u001b[0;32m---> 13\u001b[0;31m \u001b[0;32massert\u001b[0m \u001b[0mfileguard\u001b[0m\u001b[0;34m(\u001b[0m\u001b[0mfilename\u001b[0m\u001b[0;34m)\u001b[0m \u001b[0;34m==\u001b[0m \u001b[0;32mTrue\u001b[0m\u001b[0;34m,\u001b[0m \u001b[0;34m\"This file type cannot be used, please use a .csv file type\"\u001b[0m\u001b[0;34m\u001b[0m\u001b[0;34m\u001b[0m\u001b[0m\n\u001b[0m\u001b[1;32m     14\u001b[0m \u001b[0mdata\u001b[0m \u001b[0;34m=\u001b[0m \u001b[0mpd\u001b[0m\u001b[0;34m.\u001b[0m\u001b[0mread_csv\u001b[0m\u001b[0;34m(\u001b[0m\u001b[0mfilename\u001b[0m\u001b[0;34m)\u001b[0m\u001b[0;34m\u001b[0m\u001b[0;34m\u001b[0m\u001b[0m\n\u001b[1;32m     15\u001b[0m \u001b[0mstat\u001b[0m \u001b[0;34m=\u001b[0m \u001b[0mstr\u001b[0m\u001b[0;34m(\u001b[0m\u001b[0minput\u001b[0m\u001b[0;34m(\u001b[0m\u001b[0;34m'What statistic do you want to find from the data? (i.e. Max, Min, Avg, Std) '\u001b[0m\u001b[0;34m)\u001b[0m\u001b[0;34m)\u001b[0m\u001b[0;34m\u001b[0m\u001b[0;34m\u001b[0m\u001b[0m\n",
      "\u001b[0;31mAssertionError\u001b[0m: This file type cannot be used, please use a .csv file type"
     ]
    }
   ],
   "source": [
    "#Import necessary modules\n",
    "import pandas as pd\n",
    "import matplotlib.pyplot as plt\n",
    "import re\n",
    "\n",
    "#Create a function to use inside of the main data analysis function\n",
    "def fileguard(file):  \n",
    "    csv = re.compile(r'.*\\.csv') #Defines the pattern to search for\n",
    "    file = csv.search(file) #Searches for the pattern given the input \n",
    "    return bool(file)\n",
    "                     \n",
    "filename = str(input('What .csv file would you like to analyze?'))\n",
    "#Asks what csv file you would like to analyze and takes the csv file and reads it, and asks the user for inputs for what they want to find and for what category. \n",
    "assert fileguard(filename) == True, \"This file type cannot be used, please use a .csv file type\" #Checks if the input for the file is a .csv file, if not it will propse an assertion error saying to input a .csv file\n",
    "data = pd.read_csv(filename)\n",
    "stat = str(input('What statistic do you want to find from the data? (i.e. Max, Min, Avg, Std) '))\n",
    "assert stat.upper() == 'MAX' or stat.upper() == 'MIN' or stat.upper() == 'AVG' or stat.upper() == 'STD', 'Please choose one of the example statistical analysis' #Checks if the input for the type of statistic is one of the options avaliable, if not will propose an assertion error\n",
    "key = str(input('What do you want to find the {} of? (i.e Slow approach, Vigilance, Foraging)'.format(stat)))\n",
    "assert key == 'Foraging' or key == 'Vigilance' or key == 'Slow approach', \"Please choose from one of the catagories shown above\" #Checks if the input for the catagory is one of the columns in the dataset, if not propse an assertion error.  \n",
    "#Seperates the data based on treatment type\n",
    "catdata = data.loc[data['TREATMENT'] == 'Cat']\n",
    "controldata = data.loc[data['TREATMENT'] == 'Control']\n",
    "#If statements to check what statistic the user wants to find out\n",
    "#Prints out the the behavior score depending on the statistics and rounds it to 3 sigfig\n",
    "#Plots behavior score for each subject based on their treatment type using matplotlib\n",
    "if stat.upper() == 'MAX': #Max function\n",
    "    print('This is the maximum behavior score for bettongs exposed to cats:',round(catdata[key].max(), 3))\n",
    "    print('This is the maximum behavior score for bettongs not exposed to cats:',round(controldata[key].max(), 3))\n",
    "    plt.scatter(range(len(catdata)),catdata[key], label='Cat Exposed')\n",
    "    plt.scatter(range(len(controldata)),controldata[key], label='Control')\n",
    "    plt.legend(loc='upper right') #Creates a legend on the top right with two labels, 'Cat Exposed' and 'Control'\n",
    "    plt.ylabel('Behavior Score') #Label the axis of the graph \n",
    "    plt.xlabel('Subject #')\n",
    "elif stat.upper() == 'MIN': #Min function\n",
    "    print('This is the minimum behavior score for bettongs exposed to cats:',round(catdata[key].min(), 3))\n",
    "    print('This is the minimum behavior score for bettongs not exposed to cats:',round(controldata[key].min(), 3))\n",
    "    plt.scatter(range(len(catdata)),catdata[key], label='Cat Exposed')\n",
    "    plt.scatter(range(len(controldata)),controldata[key], label='Control')\n",
    "    plt.legend(loc='upper right')\n",
    "    plt.ylabel('Behavior Score')\n",
    "    plt.xlabel('Subject #')\n",
    "elif stat.upper() == 'AVG': #Average function\n",
    "    print('This is the average behavior score for bettongs exposed to cats:',round(catdata[key].mean(), 3))\n",
    "    print('This is the average behavior score for bettongs not exposed to cats:',round(controldata[key].mean(), 3))\n",
    "    plt.scatter(range(len(catdata)),catdata[key], label='Cat Exposed')\n",
    "    plt.scatter(range(len(controldata)),controldata[key], label='Control')\n",
    "    plt.legend(loc='upper right')\n",
    "    plt.ylabel('Behavior Score')\n",
    "    plt.xlabel('Subject #')\n",
    "elif stat.upper() == 'STD': #Standard deviation function\n",
    "    print('This is the standard deviation for behavior score for bettongs exposed to cats:', round(catdata[key].std(), 3))\n",
    "    print('This is the standard deviation for behavior scores for bettongs not exposed to cats:',round(controldata[key].std(), 3))\n",
    "    plt.scatter(range(len(catdata)),catdata[key], label='Cat Exposed')\n",
    "    plt.scatter(range(len(controldata)),controldata[key], label='Control')\n",
    "    plt.legend(loc='upper right')\n",
    "    plt.ylabel('Behavior Score')\n",
    "    plt.xlabel('Subject #')"
   ]
  },
  {
   "cell_type": "code",
   "execution_count": 16,
   "metadata": {},
   "outputs": [],
   "source": [
    "def fileguard(file):\n",
    "    csv = re.compile(r'.*\\.csv')\n",
    "    file = csv.search(file)\n",
    "    return bool(file)\n",
    "    \n"
   ]
  },
  {
   "cell_type": "code",
   "execution_count": 19,
   "metadata": {},
   "outputs": [
    {
     "data": {
      "text/plain": [
       "True"
      ]
     },
     "execution_count": 19,
     "metadata": {},
     "output_type": "execute_result"
    }
   ],
   "source": [
    "fileguard('anything.csv')"
   ]
  },
  {
   "cell_type": "code",
   "execution_count": null,
   "metadata": {},
   "outputs": [],
   "source": []
  }
 ],
 "metadata": {
  "kernelspec": {
   "display_name": "Python 3",
   "language": "python",
   "name": "python3"
  },
  "language_info": {
   "codemirror_mode": {
    "name": "ipython",
    "version": 3
   },
   "file_extension": ".py",
   "mimetype": "text/x-python",
   "name": "python",
   "nbconvert_exporter": "python",
   "pygments_lexer": "ipython3",
   "version": "3.6.9"
  }
 },
 "nbformat": 4,
 "nbformat_minor": 2
}
